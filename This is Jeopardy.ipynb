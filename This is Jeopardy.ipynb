{
  "cells": [
    {
      "cell_type": "markdown",
      "metadata": {
        "id": "view-in-github",
        "colab_type": "text"
      },
      "source": [
        "<a href=\"https://colab.research.google.com/github/Z-Marta/Jeopardy/blob/main/This%20is%20Jeopardy.ipynb\" target=\"_parent\"><img src=\"https://colab.research.google.com/assets/colab-badge.svg\" alt=\"Open In Colab\"/></a>"
      ]
    },
    {
      "cell_type": "markdown",
      "metadata": {
        "id": "5sR-rRM-jJLK"
      },
      "source": [
        "# This is Jeopardy!"
      ]
    },
    {
      "cell_type": "markdown",
      "metadata": {
        "id": "RGtxufhAjJLN"
      },
      "source": [
        "#### Overview"
      ]
    },
    {
      "cell_type": "markdown",
      "metadata": {
        "id": "x3AgVQZ1jJLO"
      },
      "source": [
        "This project is slightly different than others you have encountered thus far. Instead of a step-by-step tutorial, this project contains a series of open-ended requirements which describe the project you'll be building. There are many possible ways to correctly fulfill all of these requirements, and you should expect to use the internet, Codecademy, and/or other resources when you encounter a problem that you cannot easily solve."
      ]
    },
    {
      "cell_type": "markdown",
      "metadata": {
        "id": "6xrCuHQdjJLO"
      },
      "source": [
        "#### Project Goals"
      ]
    },
    {
      "cell_type": "markdown",
      "metadata": {
        "id": "MdTe_rSyjJLO"
      },
      "source": [
        "You will work to write several functions that investigate a dataset of _Jeopardy!_ questions and answers. Filter the dataset for topics that you're interested in, compute the average difficulty of those questions, and train to become the next Jeopardy champion!"
      ]
    },
    {
      "cell_type": "markdown",
      "metadata": {
        "id": "GSHSAmqVjJLP"
      },
      "source": [
        "## Prerequisites"
      ]
    },
    {
      "cell_type": "markdown",
      "metadata": {
        "id": "eixl4esqjJLP"
      },
      "source": [
        "In order to complete this project, you should have completed the Pandas lessons in the <a href=\"https://www.codecademy.com/learn/paths/analyze-data-with-python\">Analyze Data with Python Skill Path</a>. You can also find those lessons in the <a href=\"https://www.codecademy.com/learn/data-processing-pandas\">Data Analysis with Pandas course</a> or the <a href=\"https://www.codecademy.com/learn/paths/data-science/\">Data Scientist Career Path</a>.\n",
        "\n",
        "Finally, the <a href=\"https://www.codecademy.com/learn/practical-data-cleaning\">Practical Data Cleaning</a> course may also be helpful."
      ]
    },
    {
      "cell_type": "markdown",
      "metadata": {
        "id": "D7VW8e6JjJLP"
      },
      "source": [
        "## Project Requirements"
      ]
    },
    {
      "cell_type": "markdown",
      "metadata": {
        "id": "eITAxOkEjJLP"
      },
      "source": [
        "1. We've provided a csv file containing data about the game show _Jeopardy!_ in a file named `jeopardy.csv`. Load the data into a DataFrame and investigate its contents. Try to print out specific columns.\n",
        "\n",
        "   Note that in order to make this project as \"real-world\" as possible, we haven't modified the data at all - we're giving it to you exactly how we found it. As a result, this data isn't as \"clean\" as the datasets you normally find on Codecademy. More specifically, there's something odd about the column names. After you figure out the problem with the column names, you may want to rename them to make your life easier for the rest of the project.\n",
        "   \n",
        "   In order to display the full contents of a column, we've added this line of code for you:\n",
        "   \n",
        "   ```py\n",
        "   pd.set_option('display.max_colwidth', None)\n",
        "   ```"
      ]
    },
    {
      "cell_type": "code",
      "execution_count": null,
      "metadata": {
        "id": "cipLmnXvjJLQ",
        "outputId": "76e0d955-3f70-4499-957d-9d3da5d67e17"
      },
      "outputs": [
        {
          "name": "stdout",
          "output_type": "stream",
          "text": [
            "    Show Number    Air Date      Round                         Category  \\\n",
            "0          4680  31/12/2004  Jeopardy!                          HISTORY   \n",
            "1          4680  31/12/2004  Jeopardy!  ESPN's TOP 10 ALL-TIME ATHLETES   \n",
            "2          4680  31/12/2004  Jeopardy!      EVERYBODY TALKS ABOUT IT...   \n",
            "3          4680  31/12/2004  Jeopardy!                 THE COMPANY LINE   \n",
            "4          4680  31/12/2004  Jeopardy!              EPITAPHS & TRIBUTES   \n",
            "5          4680  31/12/2004  Jeopardy!                   3-LETTER WORDS   \n",
            "6          4680  31/12/2004  Jeopardy!                          HISTORY   \n",
            "7          4680  31/12/2004  Jeopardy!  ESPN's TOP 10 ALL-TIME ATHLETES   \n",
            "8          4680  31/12/2004  Jeopardy!      EVERYBODY TALKS ABOUT IT...   \n",
            "9          4680  31/12/2004  Jeopardy!                 THE COMPANY LINE   \n",
            "10         4680  31/12/2004  Jeopardy!              EPITAPHS & TRIBUTES   \n",
            "11         4680  31/12/2004  Jeopardy!                   3-LETTER WORDS   \n",
            "12         4680  31/12/2004  Jeopardy!                          HISTORY   \n",
            "13         4680  31/12/2004  Jeopardy!  ESPN's TOP 10 ALL-TIME ATHLETES   \n",
            "14         4680  31/12/2004  Jeopardy!      EVERYBODY TALKS ABOUT IT...   \n",
            "\n",
            "    Value                                           Question  \\\n",
            "0    $200  For the last 8 years of his life, Galileo was ...   \n",
            "1    $200  No. 2: 1912 Olympian; football star at Carlisl...   \n",
            "2    $200  The city of Yuma in this state has a record av...   \n",
            "3    $200  In 1963, live on \"The Art Linkletter Show\", th...   \n",
            "4    $200  Signer of the Dec. of Indep., framer of the Co...   \n",
            "5    $200  In the title of an Aesop fable, this insect sh...   \n",
            "6    $400  Built in 312 B.C. to link Rome & the South of ...   \n",
            "7    $400  No. 8: 30 steals for the Birmingham Barons; 2,...   \n",
            "8    $400  In the winter of 1971-72, a record 1,122 inche...   \n",
            "9    $400  This housewares store was named for the packag...   \n",
            "10   $400                                   \"And away we go\"   \n",
            "11   $400  Cows regurgitate this from the first stomach t...   \n",
            "12   $600  In 1000 Rajaraja I of the Cholas battled to ta...   \n",
            "13   $600  No. 1: Lettered in hoops, football & lacrosse ...   \n",
            "14   $600  On June 28, 1994 the nat'l weather service beg...   \n",
            "\n",
            "                   Answer  \n",
            "0              Copernicus  \n",
            "1              Jim Thorpe  \n",
            "2                 Arizona  \n",
            "3              McDonald's  \n",
            "4              John Adams  \n",
            "5                 the ant  \n",
            "6          the Appian Way  \n",
            "7          Michael Jordan  \n",
            "8              Washington  \n",
            "9          Crate & Barrel  \n",
            "10         Jackie Gleason  \n",
            "11                the cud  \n",
            "12  Ceylon (or Sri Lanka)  \n",
            "13              Jim Brown  \n",
            "14           the UV index  \n",
            "   Show Number    Air Date      Round                         Category Value  \\\n",
            "0         4680  31/12/2004  Jeopardy!                          HISTORY  $200   \n",
            "1         4680  31/12/2004  Jeopardy!  ESPN's TOP 10 ALL-TIME ATHLETES  $200   \n",
            "\n",
            "                                            Question      Answer  \n",
            "0  For the last 8 years of his life, Galileo was ...  Copernicus  \n",
            "1  No. 2: 1912 Olympian; football star at Carlisl...  Jim Thorpe  \n",
            "216930\n"
          ]
        }
      ],
      "source": [
        "import pandas as pd\n",
        "import numpy as np\n",
        "\n",
        "#pd.set_option ( 'display.max_colwidth', None)\n",
        "df = pd.read_csv(\"jeopardy.csv\", encoding='ISO 8859-1')\n",
        "print(df.head(15))\n",
        "# change the names of the colomns: removed the extra \" \" before the name.\n",
        "df.columns = ['Show Number', 'Air Date', 'Round', 'Category', 'Value', 'Question', 'Answer']\n",
        "print(df.head(2))\n",
        "print(df.shape[0])"
      ]
    },
    {
      "cell_type": "markdown",
      "metadata": {
        "id": "b9IngR76jJLR"
      },
      "source": [
        "2. Write a function that filters the dataset for questions that contains all of the words in a list of words. For example, when the list `[\"King\", \"England\"]` was passed to our function, the function returned a DataFrame of 49 rows. Every row had the strings `\"King\"` and `\"England\"` somewhere in its `\" Question\"`.\n",
        "\n",
        "   Test your function by printing out the column containing the question of each row of the dataset."
      ]
    },
    {
      "cell_type": "code",
      "execution_count": null,
      "metadata": {
        "id": "4nRhiJATjJLS",
        "outputId": "b1ec6152-a1d9-4eac-ae2b-f515dd0b46fa"
      },
      "outputs": [
        {
          "name": "stdout",
          "output_type": "stream",
          "text": [
            "4953      Both England's King George V & FDR put their s...\n",
            "6337      In retaliation for Viking raids, this \"Unready...\n",
            "9191      This king of England beat the odds to trounce ...\n",
            "11710     This Scotsman, the first Stuart king of Englan...\n",
            "13454     It's the number that followed the last king of...\n",
            "                                ...                        \n",
            "208295    In 1066 this great-great grandson of Rollo mad...\n",
            "208742    Dutch-born king who ruled England jointly with...\n",
            "213870    In 1781 William Herschel discovered Uranus & i...\n",
            "216021    His nickname was \"Bertie\", but he used this na...\n",
            "216789    This kingdom of England grew from 2 settlement...\n",
            "Name: Question, Length: 152, dtype: object\n"
          ]
        }
      ],
      "source": [
        "#Create a function to serch questions with the words in the list\n",
        "def search_question (data, list):\n",
        "    #checking for lower case words\n",
        "    search = lambda x: all(word.lower() in x.lower() for word in list)\n",
        "    return data.loc[data['Question'].apply(search)]\n",
        "\n",
        "# Testing the filter function\n",
        "pers_df = search_question(df, [\"King\", \"England\"])\n",
        "print(pers_df['Question'])\n"
      ]
    },
    {
      "cell_type": "markdown",
      "metadata": {
        "id": "JHEh9TdkjJLS"
      },
      "source": [
        "3. Test your original function with a few different sets of words to try to find some ways your function breaks. Edit your function so it is more robust.\n",
        "\n",
        "   For example, think about capitalization. We probably want to find questions that contain the word `\"King\"` or `\"king\"`.\n",
        "   \n",
        "   You may also want to check to make sure you don't find rows that contain substrings of your given words. For example, our function found a question that didn't contain the word `\"king\"`, however it did contain the word `\"viking\"` &mdash; it found the `\"king\"` inside `\"viking\"`. Note that this also comes with some drawbacks &mdash; you would no longer find questions that contained words like `\"England's\"`."
      ]
    },
    {
      "cell_type": "code",
      "execution_count": null,
      "metadata": {
        "id": "DhfctUv5jJLS",
        "outputId": "8928e02f-5de2-4317-9df9-8ffdccf48e06"
      },
      "outputs": [
        {
          "name": "stdout",
          "output_type": "stream",
          "text": [
            "4953      Both England's King George V & FDR put their s...\n",
            "6337      In retaliation for Viking raids, this \"Unready...\n",
            "9191      This king of England beat the odds to trounce ...\n",
            "11710     This Scotsman, the first Stuart king of Englan...\n",
            "13454     It's the number that followed the last king of...\n",
            "                                ...                        \n",
            "208295    In 1066 this great-great grandson of Rollo mad...\n",
            "208742    Dutch-born king who ruled England jointly with...\n",
            "213870    In 1781 William Herschel discovered Uranus & i...\n",
            "216021    His nickname was \"Bertie\", but he used this na...\n",
            "216789    This kingdom of England grew from 2 settlement...\n",
            "Name: Question, Length: 152, dtype: object\n"
          ]
        }
      ],
      "source": [
        "#testing the function\n",
        "pers_df = search_question(df, [\"king\", \"england\"])\n",
        "print(pers_df['Question'])"
      ]
    },
    {
      "cell_type": "markdown",
      "metadata": {
        "id": "7ff5z3YZjJLS"
      },
      "source": [
        "4. We may want to eventually compute aggregate statistics, like `.mean()` on the `\" Value\"` column. But right now, the values in that column are strings. Convert the`\" Value\"` column to floats. If you'd like to, you can create a new column with float values.\n",
        "\n",
        "   Now that you can filter the dataset of question, use your new column that contains the float values of each question to find the \"difficulty\" of certain topics. For example, what is the average value of questions that contain the word `\"King\"`?\n",
        "   \n",
        "   Make sure to use the dataset that contains the float values as the dataset you use in your filtering function."
      ]
    },
    {
      "cell_type": "code",
      "execution_count": null,
      "metadata": {
        "id": "uhLzfDlqjJLS",
        "outputId": "7af09863-3ebd-4d73-bebf-62c82a149ee8"
      },
      "outputs": [
        {
          "name": "stdout",
          "output_type": "stream",
          "text": [
            "The avarage is of: $771.88\n"
          ]
        }
      ],
      "source": [
        "#create a new column with the value of money as string converted in float value.\n",
        "df[\"Money\"] = df['Value'].apply(lambda x: float(x[1:].replace(',','')) if x != 'None' else 0)\n",
        "\n",
        "pers_df = search_question(df, [\"king\"])\n",
        "\n",
        "print(f'The avarage is of: ${round(pers_df.Money.mean(), 2)}')"
      ]
    },
    {
      "cell_type": "markdown",
      "metadata": {
        "id": "Ra2Ry64ZjJLT"
      },
      "source": [
        "5. Write a function that returns the count of unique answers to all of the questions in a dataset. For example, after filtering the entire dataset to only questions containing the word `\"King\"`, we could then find all of the unique answers to those questions. The answer \"Henry VIII\" appeared 55 times and was the most common answer."
      ]
    },
    {
      "cell_type": "code",
      "execution_count": null,
      "metadata": {
        "id": "0Ycs_Dk0jJLT",
        "outputId": "1d0cbe1e-8fd8-45e5-dff8-a54098e8d4fa"
      },
      "outputs": [
        {
          "name": "stdout",
          "output_type": "stream",
          "text": [
            "Henry VIII                   55\n",
            "Solomon                      35\n",
            "Richard III                  33\n",
            "Louis XIV                    31\n",
            "David                        30\n",
            "                             ..\n",
            "pueblos                       1\n",
            "cardiac (in card I acted)     1\n",
            "Henderson                     1\n",
            "Computer                      1\n",
            "work                          1\n",
            "Name: Answer, Length: 5266, dtype: int64\n"
          ]
        }
      ],
      "source": [
        "# A function to find the unique answers of a set of data\n",
        "def unique_answer (data):\n",
        "    return data[\"Answer\"].value_counts()\n",
        "print(unique_answer(pers_df))"
      ]
    },
    {
      "cell_type": "markdown",
      "metadata": {
        "id": "ZngPvPnzjJLU"
      },
      "source": [
        "6. Explore from here! This is an incredibly rich dataset, and there are so many interesting things to discover. There are a few columns that we haven't even started looking at yet. Here are some ideas on ways to continue working with this data:\n",
        "\n",
        " * Investigate the ways in which questions change over time by filtering by the date. How many questions from the 90s use the word `\"Computer\"` compared to questions from the 2000s?\n",
        " * Is there a connection between the round and the category? Are you more likely to find certain categories, like `\"Literature\"` in Single Jeopardy or Double Jeopardy?\n",
        " * Build a system to quiz yourself. Grab random questions, and use the <a href=\"https://docs.python.org/3/library/functions.html#input\">input</a> function to get a response from the user. Check to see if that response was right or wrong."
      ]
    },
    {
      "cell_type": "code",
      "execution_count": null,
      "metadata": {
        "id": "CjA-00eKjJLU",
        "outputId": "28f2f65e-5e7b-42d4-8cdc-a9e5a5fb972b"
      },
      "outputs": [
        {
          "name": "stdout",
          "output_type": "stream",
          "text": [
            "The questions in the 90s show the word \"Computer\" 309 times and in 2000s 122 times.\n"
          ]
        }
      ],
      "source": [
        "#Investigate how question is changing with time\n",
        "df_90=df[(df['Air Date']<'2000-01-01')]\n",
        "df_2000=df[(df['Air Date']>'2000-01-01')]\n",
        "df_a = search_question(df_90, [\"Computer\"])\n",
        "df_b = search_question(df_2000, [\"Computer\"])\n",
        "print(f'The questions in the 90s show the word \\\"Computer\\\" {len(df_a)} times and in 2000s {len(df_b)} times.')"
      ]
    },
    {
      "cell_type": "code",
      "execution_count": null,
      "metadata": {
        "id": "KucJo_KgjJLU",
        "outputId": "b2cba5a9-f780-4f79-ed76-ca33c02923ac"
      },
      "outputs": [
        {
          "name": "stdout",
          "output_type": "stream",
          "text": [
            "{'Double Jeopardy!': 5}\n"
          ]
        }
      ],
      "source": [
        "#Find how many time Category is in a round\n",
        "\n",
        "def like(search, data):\n",
        "    #searching for the specific category, select the row and store the Round's value\n",
        "    results = data.loc[data['Category'].str.lower() == search.lower()]['Round']\n",
        "    #create a dictionary with all the reound value, key as the round and value the count of that caategory yn that specific round\n",
        "    dictionary = results.value_counts().to_dict()\n",
        "    print(dictionary)\n",
        "\n",
        "\n",
        "like ('MUSICAL TRAINS', df)"
      ]
    },
    {
      "cell_type": "code",
      "execution_count": null,
      "metadata": {
        "id": "NchdO51ljJLU",
        "outputId": "5214b0c4-1f49-4af8-8b78-139c119c228f"
      },
      "outputs": [
        {
          "name": "stdout",
          "output_type": "stream",
          "text": [
            "Welcome to Jeopardy! \n",
            "We are prepering the game for you.\n",
            "\n",
            "\n",
            "We will start with the Jeopardy!!\n",
            "\n",
            "Please pick a category by writing its name or number:\n",
            "1. RADCLIFFE GRADS\n",
            "2. SYMBOLS\n",
            "3. THAT'S OLD NEWS\n"
          ]
        },
        {
          "name": "stdout",
          "output_type": "stream",
          "text": [
            "\n",
            "Here are the money values for SYMBOLS:\n",
            "['$100.0', '$300.0', '$400.0', '$500.0', '$500.0']\n",
            "\n",
            "How much money would do like to win?\n",
            "Please enter a value more close to the integer, without the $ symbol.\n",
            "\n",
            "You choose: 100 $\n",
            "\n",
            "Here is the clue: THESE SYMBOLS WORN BY COPS ARE MADE, APPROPRIATELY, OF COPPER. Write just the word(s) that is(are) the answer.\n",
            "\n",
            "You said: distinctive ?\n",
            "\n",
            "Do you want to rewrite the answer? (y/n)\n",
            "\n",
            "Wrong. This answer is not correct.\n",
            "The correct answer is: Badges\n",
            "\n",
            "You collect 0 $\n",
            "\n",
            "Please pick a category by writing its name or number:\n",
            "1. RADCLIFFE GRADS\n",
            "2. SYMBOLS\n",
            "3. THAT'S OLD NEWS\n",
            "\n",
            "Here are the money values for SYMBOLS:\n",
            "['$300.0', '$400.0', '$500.0', '$500.0']\n",
            "\n",
            "How much money would do like to win?\n",
            "Please enter a value more close to the integer, without the $ symbol.\n",
            "\n",
            "You choose: 300 $\n",
            "\n",
            "Here is the clue: THESE HERALDIC SYMBOLS ARE FULL OF GENEALOGICAL INFORMATION, BUT BE SKEPTICAL OF MAIL-ORDER VERSIONS. Write just the word(s) that is(are) the answer.\n",
            "\n",
            "You said: dna ?\n",
            "\n",
            "Do you want to rewrite the answer? (y/n)\n",
            "\n",
            "Wrong. This answer is not correct.\n",
            "The correct answer is: Coats-of-arms\n",
            "\n",
            "You collect 0 $\n",
            "\n",
            "We will start with the Double Jeopardy!!\n",
            "\n",
            "Please pick a category by writing its name or number:\n",
            "1. BIBLE BOOK HIGHLIGHTS\n",
            "2. ROCK ME\n",
            "3. SMART ANSWERS\n",
            "\n",
            "Here are the money values for ROCK ME:\n",
            "['$200.0', '$400.0', '$600.0', '$800.0', '$1000.0']\n",
            "\n",
            "How much money would do like to win?\n",
            "Please enter a value more close to the integer, without the $ symbol.\n",
            "\n",
            "You choose: 200 $\n",
            "\n",
            "Here is the clue: IT'S MOLTEN ROCK BELOW GROUND. Write just the word(s) that is(are) the answer.\n",
            "\n",
            "You said: lava ?\n",
            "\n",
            "Do you want to rewrite the answer? (y/n)\n",
            "\n",
            "Here is the clue: IT'S MOLTEN ROCK BELOW GROUND. Write just the word(s) that is(are) the answer.\n",
            "\n",
            "You said: magma ?\n",
            "\n",
            "Do you want to rewrite the answer? (y/n)\n",
            "\n",
            "Congratulation! The answer is correct\n",
            "\n",
            "You collect 200 $\n",
            "\n",
            "And now the last round!\n",
            "\n",
            "Here is the category: BOTANICAL ETYMOLOGY\n",
            "Here is the clue: This plant's name may have come from its use by Italian Renaissance women to dilate pupils, which, they felt, augmented beauty\n",
            "\n",
            "What is your answer?\n",
            "\n",
            "How many $ would you wager?\n",
            "\n",
            "Congratulation! The answer is correct! you win the amount you wagered! Here your 1 $!\n",
            "You collect 201 $\n",
            "\n",
            "Game Over\n",
            "\n",
            "Congratulation, you win the game Of Jeopardy! and you collect 201 $\n",
            "\n",
            "Would you like to plain again? y/n\n",
            "\n",
            "Thanks for play with Jeopardy! Hope you enjoy and see you soon\n"
          ]
        }
      ],
      "source": [
        "# Build a quiz\n",
        "\n",
        "#This function create an empty space\n",
        "def create_space():\n",
        "    print()\n",
        "\n",
        "#This function preper the dataframe for the specific round\n",
        "def prepare_round_data(row_data, round_name):\n",
        "    # Filter the data to keep only the specified round\n",
        "    jeopardy_data = row_data[(row_data['Round'] == round_name)]\n",
        "    jeopardy_data = jeopardy_data.sort_values('Money')\n",
        "\n",
        "    # randomly select 6 categories, 3 for the first round and 3 for the second\n",
        "    random_categories = np.random.choice(jeopardy_data['Category'].unique(), 3)\n",
        "\n",
        "    # Filter the dataframe by those categories\n",
        "    round_df = jeopardy_data[jeopardy_data['Category'].isin(random_categories)]\n",
        "\n",
        "    category_money_dict = round_df.groupby('Category')['Money'].apply(list).to_dict()\n",
        "    categories = {}\n",
        "    # Loop over the items of the dictionary\n",
        "    for category, money_values in category_money_dict.items():\n",
        "        # If the value list has more than 5 elements, select 5 randomly\n",
        "        if len(money_values) > 5:\n",
        "            money_values = np.random.choice(money_values, 5)\n",
        "        # Convert each value to a string and add a $ symbol\n",
        "        money_values = ['$' + str(x) for x in money_values]\n",
        "        # Assign the new value to the same key in the new dictionary\n",
        "        categories[category] = money_values\n",
        "    create_space()\n",
        "    print(f'We will start with the {round_name}!')\n",
        "\n",
        "    # Return the categories dictionary\n",
        "    return categories\n",
        "\n",
        "# This function will take care of the money win from the user\n",
        "def deduct_wager_from_money(money, wager):\n",
        "    while True:\n",
        "        try:\n",
        "            wager = int(wager)\n",
        "            if wager < 0:\n",
        "                raise ValueError\n",
        "            break\n",
        "        except ValueError:\n",
        "            create_space()\n",
        "            print('Invalid input. Please enter a valid positive wager.')\n",
        "            print('Enter the wager: ')\n",
        "            wager = input()\n",
        "\n",
        "    # Check if the current money is already zero\n",
        "    if money == 0:\n",
        "        create_space()\n",
        "        print ('Your money are back to 0$')\n",
        "    else:\n",
        "        # Subtract the price from the current money\n",
        "        money -= wager\n",
        "        # Check if the updated money is negative\n",
        "        if money < 0:\n",
        "            # Set money to zero if it becomes negative\n",
        "            money = 0\n",
        "    # Return the updated value of money\n",
        "    return money\n",
        "\n",
        "# Helper function to subtract money from the current score\n",
        "def subtract_money(current_money, choosen_clue):\n",
        "    if current_money >= 0:\n",
        "        return 0\n",
        "    else:\n",
        "        return current_money - int(choosen_clue)\n",
        "\n",
        "# This function handle the user's category choise\n",
        "def get_user_category_choice(category_dict):\n",
        "    error = 0\n",
        "    while True:\n",
        "        # Ask the user to pick a category by writing its name or number\n",
        "        create_space()\n",
        "        print(\"Please pick a category by writing its name or number:\")\n",
        "        # Print the categories and their numbers\n",
        "        for i, cat in enumerate(category_dict.keys()):\n",
        "            print(f\"{i+1}. {cat}\")\n",
        "        # Get the user input\n",
        "        user_input = input()\n",
        "        choosen_category, error = validate_category_input(user_input, category_dict, error)\n",
        "        if choosen_category is not None:\n",
        "            return error, choosen_category\n",
        "        elif error == 5:\n",
        "            break\n",
        "    return error, choosen_category\n",
        "\n",
        "# This function check if the user's chosen category can be found in the database\n",
        "def validate_category_input(user_input, category_dict, error):\n",
        "    # Check if the user input is a valid category name\n",
        "    if user_input in category_dict.keys():\n",
        "        # Assign the user input to choosed_category\n",
        "        return user_input.upper(), error\n",
        "        # Check if the user input is a valid category number\n",
        "    elif user_input.isdigit() and int(user_input) in range(1, len(category_dict) + 1):\n",
        "        # Get the category name by its number and assign it to choosed_category\n",
        "        return list(category_dict.keys())[int(user_input) - 1], error\n",
        "        # If the user input is invalid, print an error message and end the game\n",
        "    else:\n",
        "        create_space()\n",
        "        print(\"Invalid input. Please try again.\")\n",
        "        error += 1\n",
        "        return None, error\n",
        "\n",
        "# This function check if the user's chosen money value can be found in the database\n",
        "def validate_money_input(choosen_category, round_data, incorrect_money_attempts):\n",
        "    while incorrect_money_attempts < 5:\n",
        "            create_space()\n",
        "            print('How much money would do like to win?')\n",
        "            print('Please enter a value more close to the integer, without the $ symbol.')\n",
        "            choosen_clue = input()\n",
        "            # Convert the input to an integer\n",
        "            try:\n",
        "                choosen_clue = int(choosen_clue)\n",
        "            except ValueError:\n",
        "                print(f'Invalid input: {choosen_clue}. Please enter a value more close to the integer, without the $ symbol.')\n",
        "                incorrect_money_attempts += 1\n",
        "                continue\n",
        "            # Check if the chosen money value is valid for the chosen category\n",
        "            if float(choosen_clue) not in round_data[round_data['Category'] == choosen_category]['Money'].values:\n",
        "                create_space()\n",
        "                print('Invalid money value. Please select the correct amount.')\n",
        "                incorrect_money_attempts += 1\n",
        "            else:\n",
        "                return incorrect_money_attempts, choosen_clue\n",
        "    return incorrect_money_attempts, choosen_clue\n",
        "\n",
        "def user_answer (clue):\n",
        "    create_space()\n",
        "    print(f'Here is the clue: {clue.upper()}. Write just the word(s) that is(are) the answer.')\n",
        "    answer = input()\n",
        "    create_space()\n",
        "    print(f'You said: {answer} ?')\n",
        "\n",
        "    # Ask if the user wants to rewrite the answer\n",
        "    create_space()\n",
        "    print('Do you want to rewrite the answer? (y/n)')\n",
        "    rewrite_input = input()\n",
        "    if rewrite_input.lower() == 'y':\n",
        "        return None\n",
        "    return answer\n",
        "\n",
        "def check_answer(correct_answer, answer, choosen_clue, money):\n",
        "    if correct_answer.lower() == answer.lower():\n",
        "        # Congratulate them and add the money value to their score\n",
        "        create_space()\n",
        "        print('Congratulation! The answer is correct')\n",
        "        money += int(choosen_clue)\n",
        "    else:\n",
        "        # Tell them they are wrong and subtract the money value from their score\n",
        "        create_space()\n",
        "        print('Wrong. This answer is not correct.')\n",
        "        print(f'The correct answer is: {correct_answer}')\n",
        "        money = subtract_money(money, choosen_clue)\n",
        "    return money\n",
        "\n",
        "# Select the row that matches the chosen category and money value\n",
        "def select_set_question_answer(round_data, choosen_category, choosen_clue, selected_questions):\n",
        "    clue = ''\n",
        "    correct_answer = ''\n",
        "    selected_row = round_data.loc[(round_data['Category'] == choosen_category) & (round_data['Money'] == float(choosen_clue)) & (~round_data.index.isin(selected_questions))]\n",
        "    if len(selected_row) == 0:\n",
        "        create_space()\n",
        "        print('No question available for the chosen category and money value. Please select another one.')\n",
        "\n",
        "    # Get the question and answer from the selected row\n",
        "    clue = selected_row['Question'].iloc[0]\n",
        "    correct_answer = selected_row['Answer'].iloc[0]\n",
        "    selected_questions.append(selected_row.index[0])\n",
        "\n",
        "    return clue, correct_answer, selected_questions\n",
        "\n",
        "def wrong_input(number_game):\n",
        "    create_space()\n",
        "    print('You insert a wrong category for more then 5 times.')\n",
        "    play_again(number_game)\n",
        "\n",
        "# Print the user's celected category or money value\n",
        "def print_input(user_choise, categories):\n",
        "        if user_choise.dtype == str:\n",
        "            create_space()\n",
        "            print(f'Here are the money values for {user_choise}:')\n",
        "            print(categories[user_choise])\n",
        "        elif user_choise.dtype == int:\n",
        "            create_space()\n",
        "            print(f'You choose: {user_choise} $')\n",
        "\n",
        "\n",
        "def check_attempts(incorrect_category_attempts, incorrect_money_attempts):\n",
        "    if incorrect_category_attempts == 5 or incorrect_money_attempts == 5:\n",
        "        # Ask if the user wants to continue playing\n",
        "        create_space()\n",
        "        print('You have made 5 consecutive incorrect attempts. Do you want to continue playing? (y/n)')\n",
        "        continue_playing = input()\n",
        "        if continue_playing.lower() == 'y':\n",
        "            # Reset the counts of incorrect attempts\n",
        "            incorrect_category_attempts = 0\n",
        "            incorrect_money_attempts = 0\n",
        "            return True, incorrect_category_attempts, incorrect_money_attempts\n",
        "        else:\n",
        "            # End the game\n",
        "            return False, incorrect_category_attempts, incorrect_money_attempts\n",
        "    return True, incorrect_category_attempts, incorrect_money_attempts\n",
        "\n",
        "\n",
        "# This function will take care of the rounds of the game\n",
        "def play_round(round_data, money, number_game, round_name, number_round):\n",
        "    # List to store selected questions\n",
        "    selected_questions = []\n",
        "    # Variables for tracking incorrect inputs\n",
        "    incorrect_category_attempts = 0\n",
        "    incorrect_money_attempts = 0\n",
        "\n",
        "    # Prepare the categories and money values for the round\n",
        "    categories = prepare_round_data(round_data, round_name)\n",
        "\n",
        "    # Loop until three questions have been asked\n",
        "    while number_round < 4 and (incorrect_category_attempts < 5 or incorrect_money_attempts < 5):\n",
        "        # Check if the user's choosen category is a valid entry\n",
        "        incorrect_category_attempts, choosen_category = get_user_category_choice(categories)\n",
        "        if incorrect_category_attempts == 5:\n",
        "            wrong_input(number_game)\n",
        "            break\n",
        "\n",
        "        # Reset the incorrect category attempts counter\n",
        "        incorrect_category_attempts = 0\n",
        "\n",
        "        # Print the money values for the chosen category\n",
        "        print_input(choosen_category, categories)\n",
        "\n",
        "        # Ask the user to choose a money value\n",
        "        incorrect_money_attempts, choosen_clue = validate_money_input (choosen_category, round_data, incorrect_money_attempts)\n",
        "\n",
        "        if incorrect_money_attempts == 5:\n",
        "            wrong_input(number_game)\n",
        "            break\n",
        "\n",
        "        # Reset the incorrect money attempts counter\n",
        "        incorrect_money_attempts = 0\n",
        "\n",
        "        # Print what the user chose\n",
        "        print_input(choosen_clue, categories)\n",
        "\n",
        "        # Select the row that matches the chosen category and money value\n",
        "        clue, correct_answer, selected_questions = select_set_question_answer(round_data, choosen_category, choosen_clue, selected_questions)\n",
        "\n",
        "        # Ask the user to write their answer\n",
        "        answer = None\n",
        "        while answer is None:\n",
        "            answer = user_answer (clue)\n",
        "\n",
        "        # Check if their answer is correct (case-insensitive)\n",
        "        money = check_answer(correct_answer, answer, choosen_clue, money)\n",
        "\n",
        "        # Drop the row from round\n",
        "        choosen_clue = '$' + str(float(choosen_clue))\n",
        "        del categories [choosen_category][categories[choosen_category].index (str(choosen_clue))]\n",
        "\n",
        "        # Increment the question counter\n",
        "        number_round += 1\n",
        "\n",
        "        # Print the current score\n",
        "        create_space()\n",
        "        print(f'You collect {money} $')\n",
        "\n",
        "         # Check if the maximum number of attempts has been reached\n",
        "        continue_game, incorrect_category_attempts, incorrect_money_attempts = check_attempts(incorrect_category_attempts, incorrect_money_attempts)\n",
        "        if not continue_game:\n",
        "            break\n",
        "\n",
        "    # Return the updated score\n",
        "    return money\n",
        "\n",
        "# This function will take care of the final round of the game\n",
        "def final_round(df, money):\n",
        "    if money <= 0:\n",
        "        create_space()\n",
        "        print('Sorry, you do not have any money left to wager. The game is over.')\n",
        "        return money, 0\n",
        "\n",
        "    create_space()\n",
        "    print('And now the last round!')\n",
        "    # Filter the data to keep only the final round\n",
        "    final_jeopardy_data = df[(df['Round'] == 'Final Jeopardy!')]\n",
        "    # select one random row\n",
        "    final_round = final_jeopardy_data.sample(n = 1)\n",
        "    # Get the category, question and answer from the selected row\n",
        "    category = final_round['Category'].item()\n",
        "    question = final_round['Question'].item()\n",
        "    correct_answer = final_round['Answer'].item()\n",
        "    # Print the category and question\n",
        "    create_space()\n",
        "    print(f'Here is the category: {category}')\n",
        "    print(f'Here is the clue: {question}')\n",
        "    # Ask the user to write their answer and wager\n",
        "    create_space()\n",
        "    print('What is your answer?')\n",
        "    answer = input()\n",
        "    create_space()\n",
        "    print('How many $ would you wager?')\n",
        "    wager = input()\n",
        "    # Check if their answer is correct (case-insensitive)\n",
        "\n",
        "    try:\n",
        "        wager = int(wager)\n",
        "    except ValueError:\n",
        "        create_space()\n",
        "        print('Invalid input. Please enter a valid wager.')\n",
        "        return money, 0\n",
        "\n",
        "\n",
        "    if correct_answer.lower() == answer.lower():\n",
        "        # Congratulate them and add the wager to their score\n",
        "        create_space()\n",
        "        print(f'Congratulation! The answer is correct! you win the amount you wagered! Here your {wager} $!')\n",
        "        money += wager\n",
        "        print(f'You collect {money} $')\n",
        "        win = 1\n",
        "    else:\n",
        "        # Tell them they are wrong and subtract the wager from their score\n",
        "        create_space()\n",
        "        print('Wrong. This answer is not correct.')\n",
        "        print(f'The correct answer is: {correct_answer}')\n",
        "        money = deduct_wager_from_money(money, wager)\n",
        "        win = 0\n",
        "    # Return the updated score and win status\n",
        "    return money, win\n",
        "\n",
        "# This function shows the amount of money won by the user\n",
        "def game_over(money, win, number_game):\n",
        "    # Prompt the user to input whether they want to play again\n",
        "    create_space()\n",
        "    print('Game Over')\n",
        "    # If the user wants to play again, start a new game by calling the 'quiz' function with number_game as 1\n",
        "    if win == 1:\n",
        "        create_space()\n",
        "        print(f'Congratulation, you win the game Of Jeopardy! and you collect {money} $')\n",
        "    elif win == 0:\n",
        "        create_space()\n",
        "        print('You loose the game. Next time you\\'ll can manage it')\n",
        "    # If an invalid input is provided, recursively call the 'play_again' function to prompt for a valid input\n",
        "    else:\n",
        "        create_space()\n",
        "        print('An error may have occurred. Please start the game again.')\n",
        "    # Call the 'play_again' function to ask the user if they want to play again\n",
        "    play_again(number_game)\n",
        "\n",
        "# This function ask if the user wants to play agin\n",
        "def play_again(times):\n",
        "    # Prompt the user to input whether they want to play again\n",
        "    create_space()\n",
        "    print('Would you like to plain again? y/n')\n",
        "    will = input()\n",
        "    # If the user wants to play again, start a new game by calling the 'quiz' function with number_game as 1\n",
        "    if will.lower() == 'y':\n",
        "        quiz (times + 1)\n",
        "    elif will.lower() == 'n':\n",
        "        create_space()\n",
        "        print('Thanks for play with Jeopardy! Hope you enjoy and see you soon')\n",
        "    # If an invalid input is provided, recursively call the 'play_again' function to prompt for a valid input\n",
        "    else:\n",
        "        create_space()\n",
        "        print('Invalid command. Please try again (y/n).')\n",
        "        play_again(times)\n",
        "\n",
        "# This function is the basic function, handle the quiz game\n",
        "def quiz(number_game):\n",
        "    money = 0\n",
        "    # Variable to track the current round of the game\n",
        "    number_round = 1\n",
        "    if number_game == 0:\n",
        "        print('Welcome to Jeopardy! ')\n",
        "        print('We are prepering the game for you.')\n",
        "        create_space()\n",
        "    else:\n",
        "        print('Welcome back to \\'The Jeopardy\\'! ')\n",
        "        print('We are preparing a new game for you. ')\n",
        "        create_space()\n",
        "\n",
        "    number_game += 1\n",
        "\n",
        "    while number_round != 0:\n",
        "        # Call the 'first_round' function and update the money value based on the result\n",
        "        if number_round == 1:\n",
        "            number_round = 2\n",
        "            money = play_round (df, money, number_game, 'Jeopardy!', number_round)\n",
        "\n",
        "\n",
        "        # Call the 'second_round' function and update the money value based on the result\n",
        "        elif number_round == 2:\n",
        "            number_round = 3\n",
        "            money = play_round( df, money, number_game, 'Double Jeopardy!', number_round)\n",
        "\n",
        "        # Call the 'final_round' function and update the money and win values based on the result\n",
        "        elif number_round == 3:\n",
        "            money, win = final_round(df, money)\n",
        "            number_round = 0\n",
        "        else:\n",
        "            number_round = 0\n",
        "            win=0\n",
        "            create_space()\n",
        "            print (\"An error may have occurred. Please start again!\")\n",
        "            break\n",
        "\n",
        "\n",
        "    # Call the 'game_over' function to display the result of the game\n",
        "    game_over(money, win, number_game)\n",
        "\n",
        "\n",
        "#Start the game\n",
        "number_game = 0\n",
        "quiz(number_game)"
      ]
    },
    {
      "cell_type": "markdown",
      "metadata": {
        "id": "tZ3LN1MajJLV"
      },
      "source": [
        "## Solution"
      ]
    },
    {
      "cell_type": "markdown",
      "metadata": {
        "id": "j-M0GXZkjJLW"
      },
      "source": [
        "7. Compare your program to our <a href=\"https://content.codecademy.com/PRO/independent-practice-projects/jeopardy/jeopardy_solution.zip\">sample solution code</a> - remember, that your program might look different from ours (and probably will) and that's okay!"
      ]
    },
    {
      "cell_type": "markdown",
      "metadata": {
        "id": "fCmmVgzKjJLW"
      },
      "source": [
        "8. Great work! Visit <a href=\"https://discuss.codecademy.com/t/this-is-jeopardy-challenge-project-python-pandas/462365\">our forums</a> to compare your project to our sample solution code. You can also learn how to host your own solution on GitHub so you can share it with other learners! Your solution might look different from ours, and that's okay! There are multiple ways to solve these projects, and you'll learn more by seeing others' code."
      ]
    },
    {
      "cell_type": "code",
      "execution_count": null,
      "metadata": {
        "id": "wS4luDrujJLW"
      },
      "outputs": [],
      "source": []
    }
  ],
  "metadata": {
    "kernelspec": {
      "display_name": "Python 3 (ipykernel)",
      "language": "python",
      "name": "python3"
    },
    "language_info": {
      "codemirror_mode": {
        "name": "ipython",
        "version": 3
      },
      "file_extension": ".py",
      "mimetype": "text/x-python",
      "name": "python",
      "nbconvert_exporter": "python",
      "pygments_lexer": "ipython3",
      "version": "3.10.6"
    },
    "colab": {
      "provenance": [],
      "include_colab_link": true
    }
  },
  "nbformat": 4,
  "nbformat_minor": 0
}