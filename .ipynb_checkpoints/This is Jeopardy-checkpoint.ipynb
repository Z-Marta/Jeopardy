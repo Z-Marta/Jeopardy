{
 "cells": [
  {
   "cell_type": "markdown",
   "metadata": {},
   "source": [
    "# This is Jeopardy!"
   ]
  },
  {
   "cell_type": "markdown",
   "metadata": {},
   "source": [
    "#### Overview"
   ]
  },
  {
   "cell_type": "markdown",
   "metadata": {},
   "source": [
    "This project is slightly different than others you have encountered thus far. Instead of a step-by-step tutorial, this project contains a series of open-ended requirements which describe the project you'll be building. There are many possible ways to correctly fulfill all of these requirements, and you should expect to use the internet, Codecademy, and/or other resources when you encounter a problem that you cannot easily solve."
   ]
  },
  {
   "cell_type": "markdown",
   "metadata": {},
   "source": [
    "#### Project Goals"
   ]
  },
  {
   "cell_type": "markdown",
   "metadata": {},
   "source": [
    "You will work to write several functions that investigate a dataset of _Jeopardy!_ questions and answers. Filter the dataset for topics that you're interested in, compute the average difficulty of those questions, and train to become the next Jeopardy champion!"
   ]
  },
  {
   "cell_type": "markdown",
   "metadata": {},
   "source": [
    "## Prerequisites"
   ]
  },
  {
   "cell_type": "markdown",
   "metadata": {},
   "source": [
    "In order to complete this project, you should have completed the Pandas lessons in the <a href=\"https://www.codecademy.com/learn/paths/analyze-data-with-python\">Analyze Data with Python Skill Path</a>. You can also find those lessons in the <a href=\"https://www.codecademy.com/learn/data-processing-pandas\">Data Analysis with Pandas course</a> or the <a href=\"https://www.codecademy.com/learn/paths/data-science/\">Data Scientist Career Path</a>.\n",
    "\n",
    "Finally, the <a href=\"https://www.codecademy.com/learn/practical-data-cleaning\">Practical Data Cleaning</a> course may also be helpful."
   ]
  },
  {
   "cell_type": "markdown",
   "metadata": {},
   "source": [
    "## Project Requirements"
   ]
  },
  {
   "cell_type": "markdown",
   "metadata": {},
   "source": [
    "1. We've provided a csv file containing data about the game show _Jeopardy!_ in a file named `jeopardy.csv`. Load the data into a DataFrame and investigate its contents. Try to print out specific columns.\n",
    "\n",
    "   Note that in order to make this project as \"real-world\" as possible, we haven't modified the data at all - we're giving it to you exactly how we found it. As a result, this data isn't as \"clean\" as the datasets you normally find on Codecademy. More specifically, there's something odd about the column names. After you figure out the problem with the column names, you may want to rename them to make your life easier for the rest of the project.\n",
    "   \n",
    "   In order to display the full contents of a column, we've added this line of code for you:\n",
    "   \n",
    "   ```py\n",
    "   pd.set_option('display.max_colwidth', None)\n",
    "   ```"
   ]
  },
  {
   "cell_type": "code",
   "execution_count": 1,
   "metadata": {},
   "outputs": [
    {
     "name": "stdout",
     "output_type": "stream",
     "text": [
      "    Show Number    Air Date      Round                         Category  \\\n",
      "0          4680  31/12/2004  Jeopardy!                          HISTORY   \n",
      "1          4680  31/12/2004  Jeopardy!  ESPN's TOP 10 ALL-TIME ATHLETES   \n",
      "2          4680  31/12/2004  Jeopardy!      EVERYBODY TALKS ABOUT IT...   \n",
      "3          4680  31/12/2004  Jeopardy!                 THE COMPANY LINE   \n",
      "4          4680  31/12/2004  Jeopardy!              EPITAPHS & TRIBUTES   \n",
      "5          4680  31/12/2004  Jeopardy!                   3-LETTER WORDS   \n",
      "6          4680  31/12/2004  Jeopardy!                          HISTORY   \n",
      "7          4680  31/12/2004  Jeopardy!  ESPN's TOP 10 ALL-TIME ATHLETES   \n",
      "8          4680  31/12/2004  Jeopardy!      EVERYBODY TALKS ABOUT IT...   \n",
      "9          4680  31/12/2004  Jeopardy!                 THE COMPANY LINE   \n",
      "10         4680  31/12/2004  Jeopardy!              EPITAPHS & TRIBUTES   \n",
      "11         4680  31/12/2004  Jeopardy!                   3-LETTER WORDS   \n",
      "12         4680  31/12/2004  Jeopardy!                          HISTORY   \n",
      "13         4680  31/12/2004  Jeopardy!  ESPN's TOP 10 ALL-TIME ATHLETES   \n",
      "14         4680  31/12/2004  Jeopardy!      EVERYBODY TALKS ABOUT IT...   \n",
      "\n",
      "    Value                                           Question  \\\n",
      "0    $200  For the last 8 years of his life, Galileo was ...   \n",
      "1    $200  No. 2: 1912 Olympian; football star at Carlisl...   \n",
      "2    $200  The city of Yuma in this state has a record av...   \n",
      "3    $200  In 1963, live on \"The Art Linkletter Show\", th...   \n",
      "4    $200  Signer of the Dec. of Indep., framer of the Co...   \n",
      "5    $200  In the title of an Aesop fable, this insect sh...   \n",
      "6    $400  Built in 312 B.C. to link Rome & the South of ...   \n",
      "7    $400  No. 8: 30 steals for the Birmingham Barons; 2,...   \n",
      "8    $400  In the winter of 1971-72, a record 1,122 inche...   \n",
      "9    $400  This housewares store was named for the packag...   \n",
      "10   $400                                   \"And away we go\"   \n",
      "11   $400  Cows regurgitate this from the first stomach t...   \n",
      "12   $600  In 1000 Rajaraja I of the Cholas battled to ta...   \n",
      "13   $600  No. 1: Lettered in hoops, football & lacrosse ...   \n",
      "14   $600  On June 28, 1994 the nat'l weather service beg...   \n",
      "\n",
      "                   Answer  \n",
      "0              Copernicus  \n",
      "1              Jim Thorpe  \n",
      "2                 Arizona  \n",
      "3              McDonald's  \n",
      "4              John Adams  \n",
      "5                 the ant  \n",
      "6          the Appian Way  \n",
      "7          Michael Jordan  \n",
      "8              Washington  \n",
      "9          Crate & Barrel  \n",
      "10         Jackie Gleason  \n",
      "11                the cud  \n",
      "12  Ceylon (or Sri Lanka)  \n",
      "13              Jim Brown  \n",
      "14           the UV index  \n",
      "   Show Number    Air Date      Round                         Category Value  \\\n",
      "0         4680  31/12/2004  Jeopardy!                          HISTORY  $200   \n",
      "1         4680  31/12/2004  Jeopardy!  ESPN's TOP 10 ALL-TIME ATHLETES  $200   \n",
      "\n",
      "                                            Question      Answer  \n",
      "0  For the last 8 years of his life, Galileo was ...  Copernicus  \n",
      "1  No. 2: 1912 Olympian; football star at Carlisl...  Jim Thorpe  \n",
      "216930\n"
     ]
    }
   ],
   "source": [
    "import pandas as pd\n",
    "import numpy as np\n",
    "import random\n",
    "#pd.set_option ( 'display.max_colwidth', None)\n",
    "df = pd.read_csv(\"jeopardy.csv\", encoding='ISO 8859-1')\n",
    "print(df.head(15))\n",
    "# change the names of the colomns: remuved the extra \" \" before the name.\n",
    "df.columns = ['Show Number', 'Air Date', 'Round', 'Category', 'Value', 'Question', 'Answer']\n",
    "print(df.head(2))\n",
    "print(df.shape[0])"
   ]
  },
  {
   "cell_type": "markdown",
   "metadata": {},
   "source": [
    "2. Write a function that filters the dataset for questions that contains all of the words in a list of words. For example, when the list `[\"King\", \"England\"]` was passed to our function, the function returned a DataFrame of 49 rows. Every row had the strings `\"King\"` and `\"England\"` somewhere in its `\" Question\"`.\n",
    "\n",
    "   Test your function by printing out the column containing the question of each row of the dataset."
   ]
  },
  {
   "cell_type": "code",
   "execution_count": 2,
   "metadata": {},
   "outputs": [
    {
     "name": "stdout",
     "output_type": "stream",
     "text": [
      "4953      Both England's King George V & FDR put their s...\n",
      "6337      In retaliation for Viking raids, this \"Unready...\n",
      "9191      This king of England beat the odds to trounce ...\n",
      "11710     This Scotsman, the first Stuart king of Englan...\n",
      "13454     It's the number that followed the last king of...\n",
      "                                ...                        \n",
      "208295    In 1066 this great-great grandson of Rollo mad...\n",
      "208742    Dutch-born king who ruled England jointly with...\n",
      "213870    In 1781 William Herschel discovered Uranus & i...\n",
      "216021    His nickname was \"Bertie\", but he used this na...\n",
      "216789    This kingdom of England grew from 2 settlement...\n",
      "Name: Question, Length: 152, dtype: object\n"
     ]
    }
   ],
   "source": [
    "#Create a function to serch questions with the words in the list\n",
    "def search_question (data, list):\n",
    "    #checking for lower case words\n",
    "    search = lambda x: all(word.lower() in x.lower() for word in list)\n",
    "    return data.loc[data['Question'].apply(search)]\n",
    "\n",
    "# Testing the filter function\n",
    "pers_df = search_question(df, [\"King\", \"England\"])\n",
    "print(pers_df['Question'])\n"
   ]
  },
  {
   "cell_type": "markdown",
   "metadata": {},
   "source": [
    "3. Test your original function with a few different sets of words to try to find some ways your function breaks. Edit your function so it is more robust.\n",
    "\n",
    "   For example, think about capitalization. We probably want to find questions that contain the word `\"King\"` or `\"king\"`.\n",
    "   \n",
    "   You may also want to check to make sure you don't find rows that contain substrings of your given words. For example, our function found a question that didn't contain the word `\"king\"`, however it did contain the word `\"viking\"` &mdash; it found the `\"king\"` inside `\"viking\"`. Note that this also comes with some drawbacks &mdash; you would no longer find questions that contained words like `\"England's\"`."
   ]
  },
  {
   "cell_type": "code",
   "execution_count": 3,
   "metadata": {},
   "outputs": [
    {
     "name": "stdout",
     "output_type": "stream",
     "text": [
      "4953      Both England's King George V & FDR put their s...\n",
      "6337      In retaliation for Viking raids, this \"Unready...\n",
      "9191      This king of England beat the odds to trounce ...\n",
      "11710     This Scotsman, the first Stuart king of Englan...\n",
      "13454     It's the number that followed the last king of...\n",
      "                                ...                        \n",
      "208295    In 1066 this great-great grandson of Rollo mad...\n",
      "208742    Dutch-born king who ruled England jointly with...\n",
      "213870    In 1781 William Herschel discovered Uranus & i...\n",
      "216021    His nickname was \"Bertie\", but he used this na...\n",
      "216789    This kingdom of England grew from 2 settlement...\n",
      "Name: Question, Length: 152, dtype: object\n"
     ]
    }
   ],
   "source": [
    "#testing the function\n",
    "pers_df = search_question(df, [\"king\", \"england\"])\n",
    "print(pers_df['Question'])"
   ]
  },
  {
   "cell_type": "markdown",
   "metadata": {},
   "source": [
    "4. We may want to eventually compute aggregate statistics, like `.mean()` on the `\" Value\"` column. But right now, the values in that column are strings. Convert the`\" Value\"` column to floats. If you'd like to, you can create a new column with float values.\n",
    "\n",
    "   Now that you can filter the dataset of question, use your new column that contains the float values of each question to find the \"difficulty\" of certain topics. For example, what is the average value of questions that contain the word `\"King\"`?\n",
    "   \n",
    "   Make sure to use the dataset that contains the float values as the dataset you use in your filtering function."
   ]
  },
  {
   "cell_type": "code",
   "execution_count": 4,
   "metadata": {},
   "outputs": [
    {
     "name": "stdout",
     "output_type": "stream",
     "text": [
      "The avarage is of: $771.88\n"
     ]
    }
   ],
   "source": [
    "'''#create a new column with the value of money as string converted in float value.\n",
    "df[\"Money\"] = df['Value'].apply(lambda x: float(x[1:].replace(',','')) if x != 'None' else 0)\n",
    "\n",
    "pers_df = search_question(df, [\"king\"])\n",
    "\n",
    "print(f'The avarage is of: ${round(pers_df.Money.mean(), 2)}')'''\n",
    "\n",
    "#create a new column with the value of money as string converted in float value.\n",
    "df[\"Value-no$\"] = df['Value'].apply(lambda x: str(x).replace('$','') if x != 'None' else 0)\n",
    "df[\"Money\"] = df['Value-no$'].apply(lambda x: float(x.replace(',','')) if x != 'None' else 0)\n",
    "\n",
    "pers_df = search_question(df, [\"king\"])\n",
    "\n",
    "print(f'The avarage is of: ${round(pers_df.Money.mean(), 2)}')"
   ]
  },
  {
   "cell_type": "markdown",
   "metadata": {},
   "source": [
    "5. Write a function that returns the count of unique answers to all of the questions in a dataset. For example, after filtering the entire dataset to only questions containing the word `\"King\"`, we could then find all of the unique answers to those questions. The answer \"Henry VIII\" appeared 55 times and was the most common answer."
   ]
  },
  {
   "cell_type": "code",
   "execution_count": 5,
   "metadata": {},
   "outputs": [
    {
     "name": "stdout",
     "output_type": "stream",
     "text": [
      "Henry VIII                   55\n",
      "Solomon                      35\n",
      "Richard III                  33\n",
      "Louis XIV                    31\n",
      "David                        30\n",
      "                             ..\n",
      "pueblos                       1\n",
      "cardiac (in card I acted)     1\n",
      "Henderson                     1\n",
      "Computer                      1\n",
      "work                          1\n",
      "Name: Answer, Length: 5266, dtype: int64\n"
     ]
    }
   ],
   "source": [
    "# A function to find the unique answers of a set of data\n",
    "def unique_answer (data):\n",
    "    return data[\"Answer\"].value_counts()\n",
    "print(unique_answer(pers_df))"
   ]
  },
  {
   "cell_type": "markdown",
   "metadata": {},
   "source": [
    "6. Explore from here! This is an incredibly rich dataset, and there are so many interesting things to discover. There are a few columns that we haven't even started looking at yet. Here are some ideas on ways to continue working with this data:\n",
    "\n",
    " * Investigate the ways in which questions change over time by filtering by the date. How many questions from the 90s use the word `\"Computer\"` compared to questions from the 2000s?\n",
    " * Is there a connection between the round and the category? Are you more likely to find certain categories, like `\"Literature\"` in Single Jeopardy or Double Jeopardy?\n",
    " * Build a system to quiz yourself. Grab random questions, and use the <a href=\"https://docs.python.org/3/library/functions.html#input\">input</a> function to get a response from the user. Check to see if that response was right or wrong."
   ]
  },
  {
   "cell_type": "code",
   "execution_count": 6,
   "metadata": {},
   "outputs": [
    {
     "name": "stdout",
     "output_type": "stream",
     "text": [
      "The questions in the 90s show the word \"Computer\" 309 times and in 2000s 122 times.\n"
     ]
    }
   ],
   "source": [
    "#Investigate how question is changing with time\n",
    "df_90=df[(df['Air Date']<'2000-01-01')]\n",
    "df_2000=df[(df['Air Date']>'2000-01-01')]\n",
    "df_a = search_question(df_90, [\"Computer\"])\n",
    "df_b = search_question(df_2000, [\"Computer\"])\n",
    "print(f'The questions in the 90s show the word \\\"Computer\\\" {len(df_a)} times and in 2000s {len(df_b)} times.')"
   ]
  },
  {
   "cell_type": "code",
   "execution_count": 7,
   "metadata": {},
   "outputs": [
    {
     "name": "stdout",
     "output_type": "stream",
     "text": [
      "{'Double Jeopardy!': 5}\n"
     ]
    }
   ],
   "source": [
    "#Find how many time Category is in a round\n",
    "\n",
    "def like(search, data):\n",
    "    #searching for the specific category, select the row and store the Round's value \n",
    "    results = data.loc[data['Category'].str.lower() == search.lower()]['Round']\n",
    "    #create a dictionary with all the reound value, key as the round and value the count of that caategory yn that specific round\n",
    "    dictionary = results.value_counts().to_dict()\n",
    "    print(dictionary)\n",
    "    \n",
    "\n",
    "like ('MUSICAL TRAINS', df)"
   ]
  },
  {
   "cell_type": "code",
   "execution_count": 14,
   "metadata": {},
   "outputs": [
    {
     "name": "stdout",
     "output_type": "stream",
     "text": [
      "Welcome to 'The Jeopardy'! \n",
      "We are prepering the game for you.\n",
      "[800. 400. 800. 600. 200.]\n",
      "We will start with the Jeopardy!!\n",
      "Please pick a category by writing its name or number:\n",
      "1. \"C\" BIRDS\n",
      "2. I LIKE \"IKE\"\n",
      "3. MISNOMERS\n",
      "1\n",
      "Here are the money values for \"C\" BIRDS:\n",
      "['$200.0', '$400.0', '$600.0', '$800.0', '$1000.0']\n",
      "How much money would do like to win?200\n",
      "You choose: 200 $\n",
      "Here is the clue: Domesticated varieties of this Old World finch are usually bright or pale yellow. Write just the word\\('s\\) that is \\(are\\) the answer.\n",
      "j\n",
      "You said: j ?\n",
      "Wrong. This answer is not correct.\n",
      "The correct answer is: a canary\n",
      "Your money are back to 0$\n",
      "You collect 0 $\n",
      "Please pick a category by writing its name or number:\n",
      "1. \"C\" BIRDS\n",
      "2. I LIKE \"IKE\"\n",
      "3. MISNOMERS\n",
      "2\n",
      "Here are the money values for I LIKE \"IKE\":\n",
      "['$800.0', '$400.0', '$800.0', '$600.0', '$200.0']\n",
      "How much money would do like to win?800\n",
      "You choose: 800 $\n",
      "Here is the clue: Long-snouted freshwater swimmer of the family Esocidae. Write just the word\\('s\\) that is \\(are\\) the answer.\n",
      "l\n",
      "You said: l ?\n",
      "Wrong. This answer is not correct.\n",
      "The correct answer is: (northern) pike\n",
      "Your money are back to 0$\n",
      "You collect 0 $\n",
      "Please pick a category by writing its name or number:\n",
      "1. \"C\" BIRDS\n",
      "2. I LIKE \"IKE\"\n",
      "3. MISNOMERS\n"
     ]
    },
    {
     "ename": "KeyboardInterrupt",
     "evalue": "Interrupted by user",
     "output_type": "error",
     "traceback": [
      "\u001b[1;31m---------------------------------------------------------------------------\u001b[0m",
      "\u001b[1;31mKeyboardInterrupt\u001b[0m                         Traceback (most recent call last)",
      "Cell \u001b[1;32mIn[14], line 244\u001b[0m\n\u001b[0;32m    240\u001b[0m     game_over(money, win, number_game)\n\u001b[0;32m    243\u001b[0m number_game \u001b[38;5;241m=\u001b[39m \u001b[38;5;241m0\u001b[39m\n\u001b[1;32m--> 244\u001b[0m \u001b[43mquiz\u001b[49m\u001b[43m(\u001b[49m\u001b[43mnumber_game\u001b[49m\u001b[43m)\u001b[49m\n",
      "Cell \u001b[1;32mIn[14], line 219\u001b[0m, in \u001b[0;36mquiz\u001b[1;34m(number_game)\u001b[0m\n\u001b[0;32m    217\u001b[0m \u001b[38;5;28;01mif\u001b[39;00m \u001b[38;5;28mround\u001b[39m \u001b[38;5;241m==\u001b[39m \u001b[38;5;241m1\u001b[39m:\n\u001b[0;32m    218\u001b[0m     \u001b[38;5;28mround\u001b[39m \u001b[38;5;241m=\u001b[39m \u001b[38;5;241m2\u001b[39m\n\u001b[1;32m--> 219\u001b[0m     money, \u001b[38;5;28mround\u001b[39m \u001b[38;5;241m=\u001b[39m \u001b[43mfirst_round\u001b[49m\u001b[43m(\u001b[49m\u001b[43mquestion\u001b[49m\u001b[43m,\u001b[49m\u001b[43m \u001b[49m\u001b[43mdf\u001b[49m\u001b[43m,\u001b[49m\u001b[43m \u001b[49m\u001b[43mmoney\u001b[49m\u001b[43m,\u001b[49m\u001b[43m \u001b[49m\u001b[43mnumber_game\u001b[49m\u001b[43m)\u001b[49m\n\u001b[0;32m    221\u001b[0m \u001b[38;5;66;03m# Call the 'second_round' function and update the money value based on the result\u001b[39;00m\n\u001b[0;32m    222\u001b[0m \u001b[38;5;28;01melif\u001b[39;00m \u001b[38;5;28mround\u001b[39m \u001b[38;5;241m==\u001b[39m \u001b[38;5;241m2\u001b[39m:\n",
      "Cell \u001b[1;32mIn[14], line 132\u001b[0m, in \u001b[0;36mfirst_round\u001b[1;34m(x, data, money, number_game)\u001b[0m\n\u001b[0;32m    131\u001b[0m \u001b[38;5;28;01mdef\u001b[39;00m \u001b[38;5;21mfirst_round\u001b[39m(x, data, money, number_game):\n\u001b[1;32m--> 132\u001b[0m     money \u001b[38;5;241m=\u001b[39m \u001b[43mplay_round\u001b[49m\u001b[43m(\u001b[49m\u001b[43mx\u001b[49m\u001b[43m,\u001b[49m\u001b[43m \u001b[49m\u001b[43mdata\u001b[49m\u001b[43m,\u001b[49m\u001b[43m \u001b[49m\u001b[43mmoney\u001b[49m\u001b[43m,\u001b[49m\u001b[43m \u001b[49m\u001b[38;5;124;43m'\u001b[39;49m\u001b[38;5;124;43mJeopardy!\u001b[39;49m\u001b[38;5;124;43m'\u001b[39;49m\u001b[43m,\u001b[49m\u001b[43m \u001b[49m\u001b[43mnumber_game\u001b[49m\u001b[43m,\u001b[49m\u001b[43m \u001b[49m\u001b[38;5;28;43mround\u001b[39;49m\u001b[43m)\u001b[49m\n\u001b[0;32m    133\u001b[0m     \u001b[38;5;28;01mreturn\u001b[39;00m money, \u001b[38;5;28mround\u001b[39m\n",
      "Cell \u001b[1;32mIn[14], line 60\u001b[0m, in \u001b[0;36mplay_round\u001b[1;34m(x, data, money, round_name, number_game, round)\u001b[0m\n\u001b[0;32m     58\u001b[0m     \u001b[38;5;28mprint\u001b[39m(\u001b[38;5;124mf\u001b[39m\u001b[38;5;124m\"\u001b[39m\u001b[38;5;132;01m{\u001b[39;00mi\u001b[38;5;241m+\u001b[39m\u001b[38;5;241m1\u001b[39m\u001b[38;5;132;01m}\u001b[39;00m\u001b[38;5;124m. \u001b[39m\u001b[38;5;132;01m{\u001b[39;00mcat\u001b[38;5;132;01m}\u001b[39;00m\u001b[38;5;124m\"\u001b[39m)\n\u001b[0;32m     59\u001b[0m \u001b[38;5;66;03m# Get the user input\u001b[39;00m\n\u001b[1;32m---> 60\u001b[0m user_input \u001b[38;5;241m=\u001b[39m \u001b[38;5;28;43minput\u001b[39;49m\u001b[43m(\u001b[49m\u001b[43m)\u001b[49m\n\u001b[0;32m     62\u001b[0m \u001b[38;5;66;03m# Check if the user input is a valid category name\u001b[39;00m\n\u001b[0;32m     63\u001b[0m \u001b[38;5;28;01mif\u001b[39;00m user_input \u001b[38;5;129;01min\u001b[39;00m cat_dict\u001b[38;5;241m.\u001b[39mkeys():\n\u001b[0;32m     64\u001b[0m     \u001b[38;5;66;03m# Assign the user input to choosed_category\u001b[39;00m\n",
      "File \u001b[1;32mD:\\Software\\Anaconda3\\lib\\site-packages\\ipykernel\\kernelbase.py:1175\u001b[0m, in \u001b[0;36mKernel.raw_input\u001b[1;34m(self, prompt)\u001b[0m\n\u001b[0;32m   1171\u001b[0m \u001b[38;5;28;01mif\u001b[39;00m \u001b[38;5;129;01mnot\u001b[39;00m \u001b[38;5;28mself\u001b[39m\u001b[38;5;241m.\u001b[39m_allow_stdin:\n\u001b[0;32m   1172\u001b[0m     \u001b[38;5;28;01mraise\u001b[39;00m StdinNotImplementedError(\n\u001b[0;32m   1173\u001b[0m         \u001b[38;5;124m\"\u001b[39m\u001b[38;5;124mraw_input was called, but this frontend does not support input requests.\u001b[39m\u001b[38;5;124m\"\u001b[39m\n\u001b[0;32m   1174\u001b[0m     )\n\u001b[1;32m-> 1175\u001b[0m \u001b[38;5;28;01mreturn\u001b[39;00m \u001b[38;5;28;43mself\u001b[39;49m\u001b[38;5;241;43m.\u001b[39;49m\u001b[43m_input_request\u001b[49m\u001b[43m(\u001b[49m\n\u001b[0;32m   1176\u001b[0m \u001b[43m    \u001b[49m\u001b[38;5;28;43mstr\u001b[39;49m\u001b[43m(\u001b[49m\u001b[43mprompt\u001b[49m\u001b[43m)\u001b[49m\u001b[43m,\u001b[49m\n\u001b[0;32m   1177\u001b[0m \u001b[43m    \u001b[49m\u001b[38;5;28;43mself\u001b[39;49m\u001b[38;5;241;43m.\u001b[39;49m\u001b[43m_parent_ident\u001b[49m\u001b[43m[\u001b[49m\u001b[38;5;124;43m\"\u001b[39;49m\u001b[38;5;124;43mshell\u001b[39;49m\u001b[38;5;124;43m\"\u001b[39;49m\u001b[43m]\u001b[49m\u001b[43m,\u001b[49m\n\u001b[0;32m   1178\u001b[0m \u001b[43m    \u001b[49m\u001b[38;5;28;43mself\u001b[39;49m\u001b[38;5;241;43m.\u001b[39;49m\u001b[43mget_parent\u001b[49m\u001b[43m(\u001b[49m\u001b[38;5;124;43m\"\u001b[39;49m\u001b[38;5;124;43mshell\u001b[39;49m\u001b[38;5;124;43m\"\u001b[39;49m\u001b[43m)\u001b[49m\u001b[43m,\u001b[49m\n\u001b[0;32m   1179\u001b[0m \u001b[43m    \u001b[49m\u001b[43mpassword\u001b[49m\u001b[38;5;241;43m=\u001b[39;49m\u001b[38;5;28;43;01mFalse\u001b[39;49;00m\u001b[43m,\u001b[49m\n\u001b[0;32m   1180\u001b[0m \u001b[43m\u001b[49m\u001b[43m)\u001b[49m\n",
      "File \u001b[1;32mD:\\Software\\Anaconda3\\lib\\site-packages\\ipykernel\\kernelbase.py:1217\u001b[0m, in \u001b[0;36mKernel._input_request\u001b[1;34m(self, prompt, ident, parent, password)\u001b[0m\n\u001b[0;32m   1214\u001b[0m             \u001b[38;5;28;01mbreak\u001b[39;00m\n\u001b[0;32m   1215\u001b[0m \u001b[38;5;28;01mexcept\u001b[39;00m \u001b[38;5;167;01mKeyboardInterrupt\u001b[39;00m:\n\u001b[0;32m   1216\u001b[0m     \u001b[38;5;66;03m# re-raise KeyboardInterrupt, to truncate traceback\u001b[39;00m\n\u001b[1;32m-> 1217\u001b[0m     \u001b[38;5;28;01mraise\u001b[39;00m \u001b[38;5;167;01mKeyboardInterrupt\u001b[39;00m(\u001b[38;5;124m\"\u001b[39m\u001b[38;5;124mInterrupted by user\u001b[39m\u001b[38;5;124m\"\u001b[39m) \u001b[38;5;28;01mfrom\u001b[39;00m \u001b[38;5;28;01mNone\u001b[39;00m\n\u001b[0;32m   1218\u001b[0m \u001b[38;5;28;01mexcept\u001b[39;00m \u001b[38;5;167;01mException\u001b[39;00m:\n\u001b[0;32m   1219\u001b[0m     \u001b[38;5;28mself\u001b[39m\u001b[38;5;241m.\u001b[39mlog\u001b[38;5;241m.\u001b[39mwarning(\u001b[38;5;124m\"\u001b[39m\u001b[38;5;124mInvalid Message:\u001b[39m\u001b[38;5;124m\"\u001b[39m, exc_info\u001b[38;5;241m=\u001b[39m\u001b[38;5;28;01mTrue\u001b[39;00m)\n",
      "\u001b[1;31mKeyboardInterrupt\u001b[0m: Interrupted by user"
     ]
    }
   ],
   "source": [
    "# Build a quiz\n",
    "\n",
    "def prepering (data):\n",
    "    # randomly select 6 categories, 3 for the first round and 3 for the second \n",
    "    random_cats = np.random.choice(data['Category'].unique(), 3)\n",
    "    # Filter the dataframe by those categories\n",
    "    round_df = data[data['Category'].isin(random_cats)]\n",
    "    d = round_df.groupby('Category')['Money'].apply(list).to_dict()\n",
    "    d2 = {}\n",
    "    # Loop over the items of the dictionary\n",
    "    for key, value in d.items():\n",
    "        # If the value list has more than 5 elements, select 5 randomly\n",
    "        if len(value) > 5:\n",
    "            value = np.random.choice(value, 5)\n",
    "            print (value)\n",
    "        # Convert each value to a string and add a $ symbol\n",
    "        value = ['$' + str(x) for x in value]\n",
    "        # Join the elements of the list with a comma and a space\n",
    "        # value = ', '.join(value)\n",
    "        # Assign the new value to the same key in the new dictionary\n",
    "        d2[key] = value\n",
    "    return d2, round_df\n",
    "\n",
    "# This function will take care of the money win from the user\n",
    "def lost_money(money, price):\n",
    "    # Check if the current money is already zero\n",
    "    if money == 0:\n",
    "        print ('Your money are back to 0$')\n",
    "    else:\n",
    "        # Subtract the price from the current money\n",
    "        money -= int(price)\n",
    "        # Check if the updated money is negative\n",
    "        if money < 0:\n",
    "            # Set money to zero if it becomes negative\n",
    "            money = 0\n",
    "    # Return the updated value of money\n",
    "    return money\n",
    "\n",
    "# This function will take care of the rounds of the game\n",
    "def play_round(x, data, money, round_name, number_game, round):\n",
    "    con = round\n",
    "    # Filter the data to keep only the specified round\n",
    "    filtered_df = data[(data['Round'] == round_name)]\n",
    "    filtered_df = filtered_df.sort_values('Money')\n",
    "    # Prepare the categories and money values for the round\n",
    "    cat_dict, round = prepering (filtered_df)\n",
    "    print(f'We will start with the {round_name}!')\n",
    "\n",
    "    # List to store selected questions\n",
    "    selected_questions = []\n",
    "\n",
    "    # Loop until three questions have been asked\n",
    "    while x < 4:\n",
    "        # Ask the user to pick a category by writing its name or number\n",
    "        print(\"Please pick a category by writing its name or number:\")\n",
    "        # Print the categories and their numbers\n",
    "        for i, cat in enumerate(cat_dict.keys()):\n",
    "            print(f\"{i+1}. {cat}\")\n",
    "        # Get the user input\n",
    "        user_input = input()\n",
    "\n",
    "        # Check if the user input is a valid category name\n",
    "        if user_input in cat_dict.keys():\n",
    "            # Assign the user input to choosed_category\n",
    "            choosed_category = user_input.upper()\n",
    "            # Check if the user input is a valid category number\n",
    "        elif user_input.isdigit() and int(user_input) in range(1, len(cat_dict)+1):\n",
    "            # Get the category name by its number and assign it to choosed_category\n",
    "            choosed_category = list(cat_dict.keys())[int(user_input)-1]\n",
    "            # If the user input is invalid, print an error message and end the game\n",
    "        else:\n",
    "            print(f\"Invalid input. Please try again.\")\n",
    "            round=0\n",
    "            game_over(money, 0, number_game)\n",
    "            break\n",
    "            \n",
    "\n",
    "        # Print the money values for the chosen category\n",
    "        print(f'Here are the money values for {choosed_category}:')\n",
    "        #print(cat_dict[choosed_category.upper()])\n",
    "        print(cat_dict[choosed_category])\n",
    "        # Ask the user to choose a money value\n",
    "        choosed_clue = input('How much money would do like to win?')\n",
    "        # Convert the input to an integer\n",
    "        choosed_clue = int(choosed_clue)\n",
    "        # Print what the user chose\n",
    "        print(f'You choose: {choosed_clue} $')\n",
    "        # Check if the chosen money value is valid for the chosen category\n",
    "        if float(choosed_clue) in round[round['Category'] == choosed_category]['Money'].values:\n",
    "            # Select the row that matches the chosen category and money value\n",
    "            selected_row = round.loc[(round['Category'] == choosed_category) & (round['Money'] == float(choosed_clue)) & (~round.index.isin(selected_questions))]\n",
    "            # Get the question and answer from the selected row\n",
    "            clue = selected_row['Question'].iloc[0] \n",
    "            ## original correct_answer = selected_row['Answer']\n",
    "            correct_answer = selected_row['Answer'].iloc[0]\n",
    "            selected_questions.append(selected_row.index[0])\n",
    "            # Ask the user to write their answer\n",
    "            print(f'Here is the clue: {clue}. Write just the word\\(\\'s\\) that is \\(are\\) the answer.')\n",
    "            answer= input()\n",
    "            print(f'You said: {answer} ?')\n",
    "            # Check if their answer is correct (case-insensitive)\n",
    "            if correct_answer.lower()== answer.lower():\n",
    "                # Congratulate them and add the money value to their score\n",
    "                print('Congratulation! The answer is correct')\n",
    "                money += int(choosed_clue)\n",
    "                \n",
    "            else:\n",
    "                # Tell them they are wrong and subtract the money value from their score\n",
    "                print('Wrong. This answer is not correct.')\n",
    "                print(f'The correct answer is: {correct_answer}')\n",
    "                money = lost_money(money, choosed_clue)\n",
    "                \n",
    "        else:\n",
    "            # Tell them they chose an invalid money value and end the game\n",
    "            print('The choose money are not in the list. please select the correct amount.')\n",
    "            round = 0\n",
    "            game_over(money, 0, number_game)\n",
    "            \n",
    "\n",
    "        # Drop the row from round\n",
    "        choosed_clue = '$' + str(float(choosed_clue))\n",
    "        del cat_dict [choosed_category] [cat_dict [choosed_category].index (str(choosed_clue))]\n",
    "        # Increment the question counter\n",
    "        x += 1\n",
    "        # Print the current score\n",
    "        print(f'You collect {money} $')\n",
    "    # Return the updated score\n",
    "    return money, round\n",
    "\n",
    "# This function will take care of the first round of the game\n",
    "def first_round(x, data, money, number_game):\n",
    "    money = play_round(x, data, money, 'Jeopardy!', number_game, round)\n",
    "    return money, round\n",
    "\n",
    "# This function will take care of the second round of the game\n",
    "def second_round(x, data, money, number_game, round):\n",
    "    money = play_round(x, data, money, 'Double Jeopardy!', number_game)\n",
    "    return money, round\n",
    "    \n",
    "def final_round(df, money):\n",
    "    print(f'And now the last round!')\n",
    "    # Filter the data to keep only the final round\n",
    "    filtered_df = df[(df['Round'] == 'Final Jeopardy!')]\n",
    "    # select one random row\n",
    "    final_round = filtered_df.sample(n=1)\n",
    "    # Get the category, question and answer from the selected row \n",
    "    category = final_round['Category'].item()\n",
    "    question = final_round['Question'].item()\n",
    "    correct_answer = final_round['Answer'].item()\n",
    "    # Print the category and question\n",
    "    print(f'Here is the category: {category}')\n",
    "    print(f'Here is the clue: {question}')\n",
    "    # Ask the user to write their answer and wager\n",
    "    answer = input('What is your answer?')\n",
    "    price = input('How many $ would you wager?')\n",
    "    # Check if their answer is correct (case-insensitive)\n",
    "    if correct_answer.lower()== answer.lower():\n",
    "        # Congratulate them and add the wager to their score\n",
    "        print(f'Congratulation! The answer is correct! you win the amount you wagered! Here your {price} $!')\n",
    "        money += int(price)\n",
    "        print(f'You collect {money} $')\n",
    "        win = 1\n",
    "    else:\n",
    "        # Tell them they are wrong and subtract the wager from their score\n",
    "        print('Wrong. This answer is not correct.')\n",
    "        print(f'The correct answer is: {correct_answer}')\n",
    "        lost_money(money, price)\n",
    "        win = 0\n",
    "    # Return the updated score and win status    \n",
    "    return money, win\n",
    "\n",
    "def game_over(money, win, round):\n",
    "    # Prompt the user to input whether they want to play again\n",
    "    print('Game Over')\n",
    "    # If the user wants to play again, start a new game by calling the 'quiz' function with number_game as 1\n",
    "    if win == 1:\n",
    "        print(f'Congratulation, you win the game Of Jeopardy! and you collect {money} $')\n",
    "    elif win == 0:\n",
    "        print(f'You loose the game. You could win {money}$. Next time you\\'ll can manage it')\n",
    "    # If an invalid input is provided, recursively call the 'play_again' function to prompt for a valid input\n",
    "    else:\n",
    "        print('Error may occur. Please start the game again')\n",
    "    # Call the 'play_again' function to ask the user if they want to play again\n",
    "    play_again(number_game)\n",
    "    \n",
    "        \n",
    "        \n",
    "def play_again(times):\n",
    "    # Prompt the user to input whether they want to play again\n",
    "    will = input('Would you like to plain again? y/n')\n",
    "    # If the user wants to play again, start a new game by calling the 'quiz' function with number_game as 1\n",
    "    if will == 'y':\n",
    "        quiz (times + 1)\n",
    "    elif will == 'n':\n",
    "        print('Thanks for play with Jeopardy! Hope you enjoy and see you soon')\n",
    "    # If an invalid input is provided, recursively call the 'play_again' function to prompt for a valid input\n",
    "    else:\n",
    "        print('You put a wrong command. Try again -> y / n ')\n",
    "        play_again(times)\n",
    "    print('Thanks for play with Jeopardy! Hope you enjoy and see you soon')\n",
    "    \n",
    "\n",
    "def quiz(number_game):\n",
    "    money = 0\n",
    "    if number_game == 0:\n",
    "        print('Welcome to \\'The Jeopardy\\'! ')\n",
    "        print('We are prepering the game for you.')\n",
    "    else:\n",
    "        print('Welcome back to \\'The Jeopardy\\'! ')\n",
    "        print('We are preparing a new game for you. ')\n",
    "\n",
    "    number_game += 1    \n",
    "    question = 1\n",
    "    round = 1\n",
    "    while round != 0:\n",
    "        # Call the 'first_round' function and update the money value based on the result\n",
    "        if round == 1:\n",
    "            round = 2\n",
    "            money, round = first_round(question, df, money, number_game)\n",
    "            \n",
    "        # Call the 'second_round' function and update the money value based on the result\n",
    "        elif round == 2:\n",
    "            print(f'Money: {money}$')\n",
    "            round = 3\n",
    "            money, round = second_round(question, df, money, number_game)\n",
    "            \n",
    "        # Call the 'final_round' function and update the money and win values based on the result\n",
    "        elif round == 3:\n",
    "            print(f'Money: {money}$')\n",
    "            money, win = final_round(df, money)\n",
    "            round = 0\n",
    "        else:\n",
    "            round = 0\n",
    "            win=0\n",
    "            print (\"Error may accour, please start again!\")\n",
    "            break\n",
    "            \n",
    "\n",
    "    # Call the 'game_over' function to display the result of the game\n",
    "    game_over(money, win, number_game)\n",
    "    \n",
    "    \n",
    "number_game = 0\n",
    "quiz(number_game)\n",
    "\n",
    "#other category : jeopardy: NV, movie co-stars;\n",
    "\n",
    "# double: berber collage;\n",
    "   "
   ]
  },
  {
   "cell_type": "markdown",
   "metadata": {},
   "source": [
    "## Solution"
   ]
  },
  {
   "cell_type": "markdown",
   "metadata": {},
   "source": [
    "7. Compare your program to our <a href=\"https://content.codecademy.com/PRO/independent-practice-projects/jeopardy/jeopardy_solution.zip\">sample solution code</a> - remember, that your program might look different from ours (and probably will) and that's okay!"
   ]
  },
  {
   "cell_type": "markdown",
   "metadata": {},
   "source": [
    "8. Great work! Visit <a href=\"https://discuss.codecademy.com/t/this-is-jeopardy-challenge-project-python-pandas/462365\">our forums</a> to compare your project to our sample solution code. You can also learn how to host your own solution on GitHub so you can share it with other learners! Your solution might look different from ours, and that's okay! There are multiple ways to solve these projects, and you'll learn more by seeing others' code."
   ]
  },
  {
   "cell_type": "code",
   "execution_count": null,
   "metadata": {},
   "outputs": [],
   "source": []
  },
  {
   "cell_type": "code",
   "execution_count": null,
   "metadata": {},
   "outputs": [],
   "source": []
  }
 ],
 "metadata": {
  "kernelspec": {
   "display_name": "Python 3 (ipykernel)",
   "language": "python",
   "name": "python3"
  },
  "language_info": {
   "codemirror_mode": {
    "name": "ipython",
    "version": 3
   },
   "file_extension": ".py",
   "mimetype": "text/x-python",
   "name": "python",
   "nbconvert_exporter": "python",
   "pygments_lexer": "ipython3",
   "version": "3.9.16"
  }
 },
 "nbformat": 4,
 "nbformat_minor": 2
}
